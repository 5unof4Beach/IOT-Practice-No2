{
 "cells": [
  {
   "cell_type": "code",
   "execution_count": 3,
   "metadata": {},
   "outputs": [],
   "source": [
    "from sklearn import datasets"
   ]
  },
  {
   "cell_type": "code",
   "execution_count": 5,
   "metadata": {},
   "outputs": [
    {
     "name": "stdout",
     "output_type": "stream",
     "text": [
      "(1797, 64)\n"
     ]
    }
   ],
   "source": [
    "digits=datasets.load_digits()\n",
    "digits.images=digits.images.reshape(digits.images.shape[0],digits.images.shape[1]*digits.images.shape[2])\n",
    "\n",
    "#now lets print new matrix dimensions\n",
    "print(digits.images.shape)"
   ]
  },
  {
   "cell_type": "code",
   "execution_count": 6,
   "metadata": {},
   "outputs": [
    {
     "name": "stdout",
     "output_type": "stream",
     "text": [
      "[[ 0.  0.  5. ...  0.  0.  0.]\n",
      " [ 0.  0.  0. ... 10.  0.  0.]\n",
      " [ 0.  0.  0. ... 16.  9.  0.]\n",
      " ...\n",
      " [ 0.  0.  1. ...  6.  0.  0.]\n",
      " [ 0.  0.  2. ... 12.  0.  0.]\n",
      " [ 0.  0. 10. ... 12.  1.  0.]]\n",
      "[0 1 2 ... 8 9 8]\n"
     ]
    }
   ],
   "source": [
    "#lets try to print features and labels we have in the dataset\n",
    "print(digits.images)\n",
    "print(digits.target)\n",
    "\n"
   ]
  },
  {
   "cell_type": "code",
   "execution_count": 7,
   "metadata": {},
   "outputs": [
    {
     "name": "stdout",
     "output_type": "stream",
     "text": [
      "(1797, 64)\n",
      "(1797,)\n"
     ]
    }
   ],
   "source": [
    "#lets also see the dimension of data we have\n",
    "\n",
    "print(digits.images.shape)\n",
    "print(digits.target.shape)"
   ]
  },
  {
   "cell_type": "code",
   "execution_count": 8,
   "metadata": {},
   "outputs": [
    {
     "name": "stdout",
     "output_type": "stream",
     "text": [
      "accuracy found is\n",
      "0.9866666666666667\n"
     ]
    }
   ],
   "source": [
    "from sklearn.model_selection import train_test_split\n",
    "x_train,x_test,y_train,y_test=train_test_split(digits.images,digits.target,test_size=0.25)\n",
    "\n",
    "#We have split whole data in to 75% of training data and 25% of testing data\n",
    "\n",
    "#lets import classifier and train it \n",
    "\n",
    "from sklearn.neighbors import KNeighborsClassifier\n",
    "clf=KNeighborsClassifier(n_neighbors=3).fit(x_train,y_train)\n",
    "\n",
    "#we have given our classifier training set, using fit function.\n",
    "#point to be remembered\n",
    "#KNN is lazy learner, it takes whole data while classifying each test entry\n",
    "#In other words, it doesnt learn anything at all. it justs returns nearest neighbors and give us mode of all nearest neighbors\n",
    "\n",
    "#lets try to predict accuracy over test data\n",
    "\n",
    "from sklearn.metrics import accuracy_score\n",
    "print(\"accuracy found is\")\n",
    "print(accuracy_score(y_test,clf.predict(x_test)))\n",
    "#our classifier is 98% accurate"
   ]
  }
 ],
 "metadata": {
  "kernelspec": {
   "display_name": "Python 3.9.12",
   "language": "python",
   "name": "python3"
  },
  "language_info": {
   "codemirror_mode": {
    "name": "ipython",
    "version": 3
   },
   "file_extension": ".py",
   "mimetype": "text/x-python",
   "name": "python",
   "nbconvert_exporter": "python",
   "pygments_lexer": "ipython3",
   "version": "3.9.12"
  },
  "orig_nbformat": 4,
  "vscode": {
   "interpreter": {
    "hash": "cdf9494a72b6accc9b5a665fa5999f1e36dd241b21a516b88837a13f544b5c00"
   }
  }
 },
 "nbformat": 4,
 "nbformat_minor": 2
}
